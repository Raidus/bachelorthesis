{
 "cells": [
  {
   "cell_type": "markdown",
   "metadata": {},
   "source": [
    "# Conditionidentification \n",
    "Author: Edward Schmuhl\n",
    "\n",
    "---\n",
    "\n",
    "This notebook shows how to import the Conditionidentification model in Python and perform Named Entity Recognition on example reviews\n"
   ]
  },
  {
   "cell_type": "code",
   "execution_count": 5,
   "metadata": {},
   "outputs": [],
   "source": [
    "import spacy\n",
    "path = \"./condition_identification_model\"\n",
    "condition_identifier = spacy.load(path)"
   ]
  },
  {
   "cell_type": "code",
   "execution_count": 6,
   "metadata": {},
   "outputs": [
    {
     "name": "stdout",
     "output_type": "stream",
     "text": [
      "1.1: (I have digestion problems and wanted to try this product.) (CONDITION -> digestion problems)\n",
      "\n",
      "2.1: (My arthritic knee is getting better because i take this supplement.) (CONDITION -> arthritic knee)\n",
      "\n",
      "3.1: (Depression is gone... Love this!!!) (CONDITION -> Depression)\n",
      "\n",
      "4.1: (No Migraines, Headaches or other pain) (CONDITION -> Migraines)\n",
      "\n",
      "4.2: (No Migraines, Headaches or other pain) (CONDITION -> Headaches)\n",
      "\n",
      "5.1: (Helps anxiety, depression and restlessness) (CONDITION -> anxiety)\n",
      "\n",
      "5.2: (Helps anxiety, depression and restlessness) (CONDITION -> depression)\n",
      "\n",
      "6.1: (perfect for people with diabetes.) (CONDITION -> diabetes)\n",
      "\n",
      "7.1: (Since taking these pills, my skin got better) (CONDITION -> skin)\n",
      "\n"
     ]
    }
   ],
   "source": [
    "test_data = []\n",
    "test_data.append(\"I have digestion problems and wanted to try this product.\")\n",
    "test_data.append(\"My arthritic knee is getting better because i take this supplement.\")\n",
    "test_data.append(\"Depression is gone... Love this!!!\")\n",
    "test_data.append(\"No Migraines, Headaches or other pain\")\n",
    "test_data.append(\"Helps anxiety, depression and restlessness\")\n",
    "test_data.append(\"perfect for people with diabetes.\")\n",
    "\n",
    "i = 1\n",
    "for test_text in test_data:\n",
    "    doc_test = condition_identifier(test_text)\n",
    "    j = 1\n",
    "    for ent in doc_test.ents:\n",
    "        print(f\"{i}.{j}: ({doc_test.text}) ({ent.label_} -> {ent.text})\\n\")\n",
    "        j += 1\n",
    "    i += 1"
   ]
  }
 ],
 "metadata": {
  "kernelspec": {
   "display_name": "Python 3",
   "language": "python",
   "name": "python3"
  },
  "language_info": {
   "codemirror_mode": {
    "name": "ipython",
    "version": 3
   },
   "file_extension": ".py",
   "mimetype": "text/x-python",
   "name": "python",
   "nbconvert_exporter": "python",
   "pygments_lexer": "ipython3",
   "version": "3.7.4"
  }
 },
 "nbformat": 4,
 "nbformat_minor": 4
}
