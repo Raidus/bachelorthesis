{
 "cells": [
  {
   "cell_type": "markdown",
   "metadata": {},
   "source": [
    "# Statementclassification\n",
    "Author: Edward Schmuhl\n",
    "\n",
    "---\n",
    "\n",
    "This notebook shows how the import the Statementclassifcation model and how to classify example texts"
   ]
  },
  {
   "cell_type": "code",
   "execution_count": 1,
   "metadata": {},
   "outputs": [],
   "source": [
    "import spacy\n",
    "path = \"./statement_classification_model\"\n",
    "statement_classifier = spacy.load(path)"
   ]
  },
  {
   "cell_type": "code",
   "execution_count": 2,
   "metadata": {},
   "outputs": [
    {
     "name": "stdout",
     "output_type": "stream",
     "text": [
      "1: (helped condition) ({'NEUTRAL': 2.5114153686445206e-05, 'WORSEN': 4.139791053603403e-05, 'IMPROVED': 0.9999334812164307})\n",
      "\n",
      "2: (improved condition) ({'NEUTRAL': 0.9991624355316162, 'WORSEN': 0.000230597986956127, 'IMPROVED': 0.0006069604423828423})\n",
      "\n",
      "3: (good for condition) ({'NEUTRAL': 2.4189466785173863e-05, 'WORSEN': 4.767221980728209e-05, 'IMPROVED': 0.9999281167984009})\n",
      "\n",
      "4: (i have condition) ({'NEUTRAL': 0.9998700618743896, 'WORSEN': 6.258458597585559e-05, 'IMPROVED': 6.733987538609654e-05})\n",
      "\n",
      "5: (i use it for condition) ({'NEUTRAL': 2.8566160835907795e-05, 'WORSEN': 3.850781649816781e-05, 'IMPROVED': 0.9999328851699829})\n",
      "\n",
      "6: (bad for condition) ({'NEUTRAL': 0.9627436995506287, 'WORSEN': 0.0010339803993701935, 'IMPROVED': 0.03622233495116234})\n",
      "\n",
      "7: (worsening condition) ({'NEUTRAL': 0.0001950012956513092, 'WORSEN': 0.9995699524879456, 'IMPROVED': 0.0002351451403228566})\n",
      "\n",
      "8: (causes condition) ({'NEUTRAL': 0.0001309308863710612, 'WORSEN': 0.9997202754020691, 'IMPROVED': 0.00014867841673549265})\n",
      "\n",
      "9: (not recommended for condition) ({'NEUTRAL': 3.339788599987514e-05, 'WORSEN': 3.3001360861817375e-05, 'IMPROVED': 0.9999336004257202})\n",
      "\n"
     ]
    }
   ],
   "source": [
    "test_data = []\n",
    "test_data.append(\"helped condition\")\n",
    "test_data.append(\"improved condition\")\n",
    "test_data.append(\"good for condition\")\n",
    "test_data.append(\"i have condition\")\n",
    "test_data.append(\"i use it for condition\")\n",
    "test_data.append(\"bad for condition\")\n",
    "test_data.append(\"worsening condition\")\n",
    "test_data.append(\"causes condition\")\n",
    "test_data.append(\"not recommended for condition\")\n",
    "\n",
    "i = 1\n",
    "for test_text in test_data:\n",
    "    doc_test = statement_classifier(test_text)\n",
    "    print(f\"{i}: ({doc_test.text}) ({doc_test.cats})\\n\")\n",
    "    i += 1"
   ]
  }
 ],
 "metadata": {
  "kernelspec": {
   "display_name": "Python 3",
   "language": "python",
   "name": "python3"
  },
  "language_info": {
   "codemirror_mode": {
    "name": "ipython",
    "version": 3
   },
   "file_extension": ".py",
   "mimetype": "text/x-python",
   "name": "python",
   "nbconvert_exporter": "python",
   "pygments_lexer": "ipython3",
   "version": "3.7.4"
  }
 },
 "nbformat": 4,
 "nbformat_minor": 4
}
