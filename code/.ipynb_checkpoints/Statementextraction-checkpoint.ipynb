{
 "cells": [
  {
   "cell_type": "markdown",
   "metadata": {},
   "source": [
    "# Statementextraction\n",
    "Author: Edward Schmuhl\n",
    "\n",
    "---\n",
    "\n",
    "This notebook shows how the implementation of the Statementextraction in combination of using the Conditionidentification"
   ]
  },
  {
   "cell_type": "code",
   "execution_count": 1,
   "metadata": {},
   "outputs": [],
   "source": [
    "import spacy\n",
    "# Conditionidentification\n",
    "path_to_ner = \"en_condition_identification_model\"\n",
    "conditionidentification = spacy.load(path_to_ner)\n",
    "\n",
    "# Spacy model\n",
    "nlp = spacy.load(\"en_core_web_trf\")"
   ]
  },
  {
   "cell_type": "markdown",
   "metadata": {},
   "source": [
    "## Statementextraction function\n",
    "\n",
    "The Conditionidentification will detect conditions and their index position. Every head referencing the condition will be extracted. This operation will be applied recursively on the extracted heads until the ROOT is reached. The extracted words form the statement\n"
   ]
  },
  {
   "cell_type": "code",
   "execution_count": 2,
   "metadata": {},
   "outputs": [],
   "source": [
    "def extract_Statement(text):\n",
    "    returnList = []\n",
    "    condition_Doc = conditionidentification(text)\n",
    "    doc = nlp(text)\n",
    "    \n",
    "    # Conditionidentification\n",
    "    conditionList = []\n",
    "    for i in range(0,len(doc)):\n",
    "        try:\n",
    "            if(condition_Doc[i].ent_type_ == \"CONDITION\" and condition_Doc[i].ent_iob_ == \"B\"):\n",
    "                index = i\n",
    "                \n",
    "                # Conditionidentification\n",
    "                condition = condition_Doc[i].text\n",
    "                conditionList.append(condition)\n",
    "                for k in range(i,len(doc)):\n",
    "                    if condition_Doc[k].ent_iob_ == \"I\":\n",
    "                        condition += \" \"+condition_Doc[k].text\n",
    "                        conditionList.append(condition_Doc[k].text)\n",
    "                        conditionList.append(condition)\n",
    "                        if doc[k].pos_ == \"NOUN\" and doc[i].pos_ != \"NOUN\":\n",
    "                            index = k\n",
    "\n",
    "                # Statementextraction        \n",
    "                statement = \"\"\n",
    "                ancestorList = []\n",
    "                for ancestor in doc[index].ancestors:\n",
    "                    if ancestor.text not in conditionList:\n",
    "                        ancestorList.append(ancestor.text)\n",
    "                for ancestor in reversed(ancestorList):\n",
    "                    statement += ancestor+\" \"\n",
    "                if statement != \"\":\n",
    "                    statement += \"condition\"\n",
    "                    returnList.append((statement,condition))\n",
    "        except IndexError:\n",
    "            print(i,doc.text)\n",
    "            continue\n",
    "    return returnList"
   ]
  },
  {
   "cell_type": "markdown",
   "metadata": {},
   "source": [
    "## Evaluation"
   ]
  },
  {
   "cell_type": "code",
   "execution_count": 3,
   "metadata": {},
   "outputs": [
    {
     "name": "stdout",
     "output_type": "stream",
     "text": [
      "[('helped condition', 'migraine'), ('helped worsen condition', 'headache')]\n"
     ]
    }
   ],
   "source": [
    "print(extract_Statement(\"this helped my migraine but worsen headache\"))"
   ]
  }
 ],
 "metadata": {
  "kernelspec": {
   "display_name": "Python 3",
   "language": "python",
   "name": "python3"
  },
  "language_info": {
   "codemirror_mode": {
    "name": "ipython",
    "version": 3
   },
   "file_extension": ".py",
   "mimetype": "text/x-python",
   "name": "python",
   "nbconvert_exporter": "python",
   "pygments_lexer": "ipython3",
   "version": "3.9.2"
  }
 },
 "nbformat": 4,
 "nbformat_minor": 4
}
