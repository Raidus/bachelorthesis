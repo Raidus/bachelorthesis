{
 "cells": [
  {
   "cell_type": "markdown",
   "metadata": {},
   "source": [
    "# Algorithm Implementation\n",
    "Author: Edward Schmuhl\n",
    "\n",
    "---\n",
    "\n",
    "This notebook shows the algorithm function"
   ]
  },
  {
   "cell_type": "code",
   "execution_count": 5,
   "metadata": {},
   "outputs": [],
   "source": [
    "import spacy\n",
    "# Conditionidentification\n",
    "conditionidentification = spacy.load(\"en_condition_identification_model\")\n",
    "\n",
    "# pretrained Spacy model for Statementextraction\n",
    "nlp = spacy.load(\"en_core_web_trf\")\n",
    "\n",
    "# Statementclassification\n",
    "statement_classifier = spacy.load(\"en_statement_classification_model\")"
   ]
  },
  {
   "cell_type": "code",
   "execution_count": 2,
   "metadata": {},
   "outputs": [],
   "source": [
    "def classify_statement(_statement):\n",
    "    statement_doc = statement_classifier(_statement)\n",
    "    classifcation = \"None\"\n",
    "    value = 0\n",
    "    \n",
    "    for cat in statement_doc.cats:\n",
    "        if statement_doc.cats[cat] > value:\n",
    "            value = statement_doc.cats[cat]\n",
    "            classifcation = cat\n",
    "    \n",
    "    return classifcation\n",
    "\n",
    "def extract_classify_Statement(text):\n",
    "    returnList = []\n",
    "    condition_Doc = conditionidentification(text)\n",
    "    doc = nlp(text)\n",
    "    \n",
    "    # Conditionidentification\n",
    "    conditionList = []\n",
    "    for i in range(0,len(doc)):\n",
    "        try:\n",
    "            if(condition_Doc[i].ent_type_ == \"CONDITION\" and condition_Doc[i].ent_iob_ == \"B\"):\n",
    "                index = i\n",
    "                \n",
    "                # Conditionidentification\n",
    "                condition = condition_Doc[i].text\n",
    "                conditionList.append(condition)\n",
    "                for k in range(i,len(doc)):\n",
    "                    if condition_Doc[k].ent_iob_ == \"I\":\n",
    "                        condition += \" \"+condition_Doc[k].text\n",
    "                        conditionList.append(condition_Doc[k].text)\n",
    "                        conditionList.append(condition)\n",
    "                        if doc[k].pos_ == \"NOUN\" and doc[i].pos_ != \"NOUN\":\n",
    "                            index = k\n",
    "\n",
    "                # Statementextraction        \n",
    "                statement = \"\"\n",
    "                ancestorList = []\n",
    "                for ancestor in doc[index].ancestors:\n",
    "                    if ancestor.text not in conditionList:\n",
    "                        ancestorList.append(ancestor.text)\n",
    "                for ancestor in reversed(ancestorList):\n",
    "                    statement += ancestor+\" \"\n",
    "                if statement != \"\":\n",
    "                    statement += \"condition\"\n",
    "                    \n",
    "                    # Statementclassification\n",
    "                    statement_class = classify_statement(statement)\n",
    "                    returnList.append((statement,condition,statement_class))\n",
    "        except IndexError:\n",
    "            print(i,doc.text)\n",
    "            continue\n",
    "    return returnList"
   ]
  },
  {
   "cell_type": "code",
   "execution_count": 4,
   "metadata": {},
   "outputs": [
    {
     "name": "stdout",
     "output_type": "stream",
     "text": [
      "[('helped condition', 'migraine', 'IMPROVED')]\n"
     ]
    }
   ],
   "source": [
    "print(extract_classify_Statement(\"This helped my migraine\"))"
   ]
  }
 ],
 "metadata": {
  "kernelspec": {
   "display_name": "Python 3",
   "language": "python",
   "name": "python3"
  },
  "language_info": {
   "codemirror_mode": {
    "name": "ipython",
    "version": 3
   },
   "file_extension": ".py",
   "mimetype": "text/x-python",
   "name": "python",
   "nbconvert_exporter": "python",
   "pygments_lexer": "ipython3",
   "version": "3.9.2"
  }
 },
 "nbformat": 4,
 "nbformat_minor": 4
}
