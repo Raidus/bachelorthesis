{
 "cells": [
  {
   "cell_type": "markdown",
   "metadata": {},
   "source": [
    "# Statementclassification\n",
    "Author: Edward Schmuhl\n",
    "\n",
    "---\n",
    "\n",
    "This notebook shows how the import the Statementclassifcation model and how to classify example texts"
   ]
  },
  {
   "cell_type": "code",
   "execution_count": 5,
   "metadata": {},
   "outputs": [],
   "source": [
    "import spacy\n",
    "statement_classifier = spacy.load(\"en_statement_classification_model\")"
   ]
  },
  {
   "cell_type": "code",
   "execution_count": 4,
   "metadata": {},
   "outputs": [
    {
     "name": "stdout",
     "output_type": "stream",
     "text": [
      "worsen condition | {'NEUTRAL': 0.005812346003949642, 'WORSEN': 0.9923691749572754, 'IMPROVED': 0.001818510820157826}\n"
     ]
    }
   ],
   "source": [
    "test_data = []\n",
    "test_data.append(\"worsen condition\")\n",
    "\n",
    "\n",
    "for test_text in test_data:\n",
    "    doc_test = statement_classifier(test_text)\n",
    "    print(f\"{test_text} | {doc_test.cats}\")\n"
   ]
  }
 ],
 "metadata": {
  "kernelspec": {
   "display_name": "Python 3",
   "language": "python",
   "name": "python3"
  },
  "language_info": {
   "codemirror_mode": {
    "name": "ipython",
    "version": 3
   },
   "file_extension": ".py",
   "mimetype": "text/x-python",
   "name": "python",
   "nbconvert_exporter": "python",
   "pygments_lexer": "ipython3",
   "version": "3.9.2"
  }
 },
 "nbformat": 4,
 "nbformat_minor": 4
}
