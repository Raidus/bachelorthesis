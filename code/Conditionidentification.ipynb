{
 "cells": [
  {
   "cell_type": "markdown",
   "metadata": {},
   "source": [
    "# Conditionidentification \n",
    "Author: Edward Schmuhl\n",
    "\n",
    "---\n",
    "\n",
    "This notebook shows how to import the Conditionidentification model in Python and perform Named Entity Recognition on example reviews\n"
   ]
  },
  {
   "cell_type": "code",
   "execution_count": 1,
   "metadata": {},
   "outputs": [],
   "source": [
    "import spacy\n",
    "condition_identifier = spacy.load(\"en_condition_identification_model\")"
   ]
  },
  {
   "cell_type": "code",
   "execution_count": 2,
   "metadata": {},
   "outputs": [
    {
     "name": "stdout",
     "output_type": "stream",
     "text": [
      "This helps my migraine and but worsens my headache | CONDITION : migraine\n",
      "This helps my migraine and but worsens my headache | CONDITION : headache\n"
     ]
    }
   ],
   "source": [
    "test_data = []\n",
    "test_data.append(\"This helps my migraine and but worsens my headache\")\n",
    "\n",
    "\n",
    "for test_text in test_data:\n",
    "    doc_test = condition_identifier(test_text)\n",
    "    for ent in doc_test.ents:\n",
    "        print(\"{0} | {1} : {2}\".format(doc_test.text,ent.label_,ent.text))\n"
   ]
  }
 ],
 "metadata": {
  "kernelspec": {
   "display_name": "Python 3",
   "language": "python",
   "name": "python3"
  },
  "language_info": {
   "codemirror_mode": {
    "name": "ipython",
    "version": 3
   },
   "file_extension": ".py",
   "mimetype": "text/x-python",
   "name": "python",
   "nbconvert_exporter": "python",
   "pygments_lexer": "ipython3",
   "version": "3.9.2"
  }
 },
 "nbformat": 4,
 "nbformat_minor": 4
}
